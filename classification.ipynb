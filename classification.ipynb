{
 "cells": [
  {
   "cell_type": "code",
   "execution_count": 1,
   "metadata": {},
   "outputs": [],
   "source": [
    "%matplotlib widget\n",
    "import mne\n",
    "import os\n",
    "import matplotlib\n",
    "from matplotlib import pyplot as plt"
   ]
  },
  {
   "cell_type": "code",
   "execution_count": 2,
   "metadata": {},
   "outputs": [
    {
     "name": "stdout",
     "output_type": "stream",
     "text": [
      "Extracting parameters from BIDS/Sub01/Session010/Sub01_Session0101_Anesthetized.vhdr...\n",
      "Setting channel info structure...\n",
      "Reading 0 ... 119692  =      0.000 ...  1196.920 secs...\n",
      "Adding average EEG reference projection.\n",
      "1 projection items deactivated\n",
      "Average reference projection was added, but has not been applied yet. Use the apply_proj method to apply it.\n"
     ]
    },
    {
     "data": {
      "text/plain": [
       "<RawBrainVision  |  Sub01_Session0101_Anesthetized.eeg, n_channels x n_times : 128 x 119693 (1196.9 sec), ~117.1 MB, data loaded>"
      ]
     },
     "execution_count": 2,
     "metadata": {},
     "output_type": "execute_result"
    }
   ],
   "source": [
    "path = \"BIDS/Sub01/Session010/Sub01_Session0101_Anesthetized.vhdr\"\n",
    "raw = mne.io.read_raw_brainvision(path, preload=True, stim_channel=False)\n",
    "# set EEG average reference\n",
    "raw.set_eeg_reference('average', projection=True)"
   ]
  },
  {
   "cell_type": "code",
   "execution_count": 3,
   "metadata": {},
   "outputs": [
    {
     "name": "stdout",
     "output_type": "stream",
     "text": [
      "sample rate: 100.0 Hz\n",
      "119693 channels x 119693 samples\n"
     ]
    }
   ],
   "source": [
    "# Give the sample rate\n",
    "print('sample rate:', raw.info['sfreq'], 'Hz')\n",
    "# Give the size of the data matrix\n",
    "print('%s channels x %s samples' % (len(raw), len(raw.times))) "
   ]
  },
  {
   "cell_type": "code",
   "execution_count": 50,
   "metadata": {},
   "outputs": [
    {
     "data": {
      "application/vnd.jupyter.widget-view+json": {
       "model_id": "55ec0f86ce6d4f5e9c369ffc19ebdcb5",
       "version_major": 2,
       "version_minor": 0
      },
      "text/plain": [
       "FigureCanvasNbAgg()"
      ]
     },
     "metadata": {},
     "output_type": "display_data"
    },
    {
     "data": {
      "text/plain": [
       "<matplotlib.legend.Legend at 0x7f2078f7a7f0>"
      ]
     },
     "execution_count": 50,
     "metadata": {},
     "output_type": "execute_result"
    }
   ],
   "source": [
    "# Extract data from the first 5 channels, from 1 s to 3 s.\n",
    "sfreq = raw.info['sfreq']\n",
    "data, times = raw[:5, int(sfreq * 1):int(sfreq * 10)]\n",
    "plt.close('all')\n",
    "fig, ax = plt.subplots()\n",
    "ax.plot(times, data.T)\n",
    "ax.set_title('Sample channels')\n",
    "ax.legend(range(len(data)))"
   ]
  },
  {
   "cell_type": "code",
   "execution_count": 51,
   "metadata": {},
   "outputs": [
    {
     "data": {
      "text/plain": [
       "<Info | 16 non-empty fields\n",
       "    bads : list | 0 items\n",
       "    ch_names : list | ECoG_ch001, ECoG_ch002, ECoG_ch003, ECoG_ch004, ...\n",
       "    chs : list | 128 items (EEG: 128)\n",
       "    comps : list | 0 items\n",
       "    custom_ref_applied : bool | False\n",
       "    dev_head_t : Transform | 3 items\n",
       "    events : list | 0 items\n",
       "    highpass : float | 0.0 Hz\n",
       "    hpi_meas : list | 0 items\n",
       "    hpi_results : list | 0 items\n",
       "    lowpass : float | 50.0 Hz\n",
       "    meas_date : NoneType | unspecified\n",
       "    nchan : int | 128\n",
       "    proc_history : list | 0 items\n",
       "    projs : list | Average EEG reference: off\n",
       "    sfreq : float | 100.0 Hz\n",
       "    acq_pars : NoneType\n",
       "    acq_stim : NoneType\n",
       "    ctf_head_t : NoneType\n",
       "    description : NoneType\n",
       "    dev_ctf_t : NoneType\n",
       "    dig : NoneType\n",
       "    experimenter : NoneType\n",
       "    file_id : NoneType\n",
       "    gantry_angle : NoneType\n",
       "    hpi_subsystem : NoneType\n",
       "    kit_system_id : NoneType\n",
       "    line_freq : NoneType\n",
       "    meas_id : NoneType\n",
       "    proj_id : NoneType\n",
       "    proj_name : NoneType\n",
       "    subject_info : NoneType\n",
       "    xplotter_layout : NoneType\n",
       ">"
      ]
     },
     "execution_count": 51,
     "metadata": {},
     "output_type": "execute_result"
    }
   ],
   "source": [
    "raw.info"
   ]
  }
 ],
 "metadata": {
  "kernelspec": {
   "display_name": "Python 3",
   "language": "python",
   "name": "python3"
  },
  "language_info": {
   "codemirror_mode": {
    "name": "ipython",
    "version": 3
   },
   "file_extension": ".py",
   "mimetype": "text/x-python",
   "name": "python",
   "nbconvert_exporter": "python",
   "pygments_lexer": "ipython3",
   "version": "3.7.1"
  }
 },
 "nbformat": 4,
 "nbformat_minor": 2
}
